{
 "cells": [
  {
   "cell_type": "code",
   "execution_count": 1,
   "metadata": {},
   "outputs": [
    {
     "name": "stdout",
     "output_type": "stream",
     "text": [
      "Measured time: 4.9999999980343546e-06 s\n"
     ]
    }
   ],
   "source": [
    "import time\n",
    "class Time:\n",
    "    def __enter__(self):\n",
    "        self._start=time.perf_counter()\n",
    "    \n",
    "    def __exit__(self, exc_type, exc_value, traceback):\n",
    "        self._took = (time.perf_counter() - self._start)\n",
    "        print(\"Measured time: \"+str(self._took)+\" s\")\n",
    "\n",
    "lista_test=[0,100000]\n",
    "a=0\n",
    "with Time() as t:\n",
    "    for i in lista_test:\n",
    "        a+=i*2\n",
    "    "
   ]
  },
  {
   "cell_type": "code",
   "execution_count": null,
   "metadata": {},
   "outputs": [],
   "source": []
  }
 ],
 "metadata": {
  "kernelspec": {
   "display_name": "Python 3",
   "language": "python",
   "name": "python3"
  },
  "language_info": {
   "codemirror_mode": {
    "name": "ipython",
    "version": 3
   },
   "file_extension": ".py",
   "mimetype": "text/x-python",
   "name": "python",
   "nbconvert_exporter": "python",
   "pygments_lexer": "ipython3",
   "version": "3.7.0"
  }
 },
 "nbformat": 4,
 "nbformat_minor": 2
}
