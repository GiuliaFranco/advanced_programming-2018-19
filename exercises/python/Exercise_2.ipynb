{
 "cells": [
  {
   "cell_type": "code",
   "execution_count": 1,
   "metadata": {},
   "outputs": [
    {
     "name": "stdout",
     "output_type": "stream",
     "text": [
      "The Zen of Python, by Tim Peters\n",
      "\n",
      "Beautiful is better than ugly.\n",
      "Explicit is better than implicit.\n",
      "Simple is better than complex.\n",
      "Complex is better than complicated.\n",
      "Flat is better than nested.\n",
      "Sparse is better than dense.\n",
      "Readability counts.\n",
      "Special cases aren't special enough to break the rules.\n",
      "Although practicality beats purity.\n",
      "Errors should never pass silently.\n",
      "Unless explicitly silenced.\n",
      "In the face of ambiguity, refuse the temptation to guess.\n",
      "There should be one-- and preferably only one --obvious way to do it.\n",
      "Although that way may not be obvious at first unless you're Dutch.\n",
      "Now is better than never.\n",
      "Although never is often better than *right* now.\n",
      "If the implementation is hard to explain, it's a bad idea.\n",
      "If the implementation is easy to explain, it may be a good idea.\n",
      "Namespaces are one honking great idea -- let's do more of those!\n"
     ]
    }
   ],
   "source": [
    "import this\n",
    "import antigravity\n",
    "from copy import *"
   ]
  },
  {
   "cell_type": "code",
   "execution_count": 2,
   "metadata": {},
   "outputs": [
    {
     "data": {
      "text/plain": [
       "['giulia', 'sole', 'asvayt']"
      ]
     },
     "execution_count": 2,
     "metadata": {},
     "output_type": "execute_result"
    }
   ],
   "source": [
    "lista=[\"giulia\",\"sole\",\"asvayt\"]\n",
    "sorted(lista,key=(lambda i : i[::-1]))"
   ]
  },
  {
   "cell_type": "code",
   "execution_count": 3,
   "metadata": {},
   "outputs": [],
   "source": [
    "class Sequence:\n",
    "    def __init__(self,i):\n",
    "        self.lista =list(i)\n",
    "    def __str__(self):\n",
    "        return 'Lista={0}'.format(self.lista)\n",
    "    def __len__(self):\n",
    "        return len(self.lista)\n",
    "    def __eq__(self,a):\n",
    "        if self.lista==a:\n",
    "            return True\n",
    "        else:\n",
    "            return False\n",
    "    def __getitem__(self,t):\n",
    "        return 'Lista={0}'.format(self.lista[t])\n",
    "    def __setitem__(self,t,y):\n",
    "        self.lista[t]=y\n",
    "    def __delitem__(self,i):\n",
    "        del self.lista[i]\n",
    "    def __iter__(self):\n",
    "        yield from self.lista \n",
    "    def insert(self,i,a):\n",
    "        self.lista.insert(i,a)\n",
    "    def append(self,i):\n",
    "        self.lista.append(i)\n",
    "    def __copy__(self):\n",
    "        return copy.deepcopy(self)"
   ]
  },
  {
   "cell_type": "code",
   "execution_count": 5,
   "metadata": {},
   "outputs": [
    {
     "name": "stdout",
     "output_type": "stream",
     "text": [
      "Lista=[0, 1, 2, 3, 4, 5, 6, 7, 8, 9]\n",
      "Lista=9\n",
      "Lista=[1, 1, 2, 3, 4, 5, 6, 7, 8, 9]\n",
      "Lista=[1, 2, 4, 5, 6, 7, 8, 9]\n",
      "Lista=[1, 2, 3, 4, 5, 6, 7, 8, 9]\n",
      "Lista=[1, 2, 3, 4, 5, 6, 7, 8, 9, 3]\n",
      "Lista=[0, 1, 2, 3, 4, 5, 6, 7, 8, 9, 10, 11, 12, 13, 14]\n",
      "Lista=[0, 1, 2, 3, 4]\n",
      "Lista=[0, 1, 2, 3, 4, 5, 6, 7, 8, 9, 10, 11, 12, 13, 14]\n",
      "Lista=[0, 1, 2, 3, 4, 5, 6, 7, 8, 9, 10, 11, 12, 13, 14]\n"
     ]
    }
   ],
   "source": [
    "s=Sequence(range(10))\n",
    "print(s)\n",
    "len(s)\n",
    "s==lista\n",
    "print(s[-1])\n",
    "s[0]=1\n",
    "print(s)\n",
    "del s[1:4:2]\n",
    "print(s)\n",
    "s.insert(2, 3)\n",
    "print(s)\n",
    "s.append(3)\n",
    "print(s)\n",
    "s1=Sequence(range(15))\n",
    "s2=Sequence(range(5))\n",
    "print(s1)\n",
    "print(s2)\n",
    "s2 = deepcopy(s1)\n",
    "print(s2)"
   ]
  },
  {
   "cell_type": "code",
   "execution_count": null,
   "metadata": {},
   "outputs": [],
   "source": []
  },
  {
   "cell_type": "code",
   "execution_count": null,
   "metadata": {},
   "outputs": [],
   "source": []
  }
 ],
 "metadata": {
  "kernelspec": {
   "display_name": "Python 3",
   "language": "python",
   "name": "python3"
  },
  "language_info": {
   "codemirror_mode": {
    "name": "ipython",
    "version": 3
   },
   "file_extension": ".py",
   "mimetype": "text/x-python",
   "name": "python",
   "nbconvert_exporter": "python",
   "pygments_lexer": "ipython3",
   "version": "3.7.0"
  }
 },
 "nbformat": 4,
 "nbformat_minor": 2
}
